{
  "nbformat": 4,
  "nbformat_minor": 0,
  "metadata": {
    "colab": {
      "provenance": []
    },
    "kernelspec": {
      "name": "python3",
      "display_name": "Python 3"
    },
    "language_info": {
      "name": "python"
    }
  },
  "cells": [
    {
      "cell_type": "code",
      "execution_count": 1,
      "metadata": {
        "id": "aDdLlu3ZCgEW",
        "colab": {
          "base_uri": "https://localhost:8080/"
        },
        "outputId": "afeb17a4-2cd6-4b92-bfe2-f444502d283f"
      },
      "outputs": [
        {
          "output_type": "stream",
          "name": "stdout",
          "text": [
            "Looking in indexes: https://pypi.org/simple, https://us-python.pkg.dev/colab-wheels/public/simple/\n",
            "Collecting libsvm\n",
            "  Downloading libsvm-3.23.0.4.tar.gz (170 kB)\n",
            "\u001b[2K     \u001b[90m━━━━━━━━━━━━━━━━━━━━━━━━━━━━━━━━━━━━━━━\u001b[0m \u001b[32m170.6/170.6 kB\u001b[0m \u001b[31m3.7 MB/s\u001b[0m eta \u001b[36m0:00:00\u001b[0m\n",
            "\u001b[?25h  Preparing metadata (setup.py) ... \u001b[?25l\u001b[?25hdone\n",
            "Building wheels for collected packages: libsvm\n",
            "  Building wheel for libsvm (setup.py) ... \u001b[?25l\u001b[?25hdone\n",
            "  Created wheel for libsvm: filename=libsvm-3.23.0.4-cp39-cp39-linux_x86_64.whl size=253859 sha256=72344e0c94a0c4c5871a655e8c0a82a9129983d6a4d2fde0cdae15fe3d214c91\n",
            "  Stored in directory: /root/.cache/pip/wheels/c1/ce/25/0d50035499973fcbcc407fcb897d53e47b6eb4601308789aa6\n",
            "Successfully built libsvm\n",
            "Installing collected packages: libsvm\n",
            "Successfully installed libsvm-3.23.0.4\n"
          ]
        }
      ],
      "source": [
        "!pip install libsvm\n"
      ]
    },
    {
      "cell_type": "code",
      "source": [
        "import torch\n",
        "import numpy as np\n",
        "import matplotlib. pyplot as plt\n",
        "import torch.nn as nn\n",
        "import math \n",
        "from libsvm.svmutil import *\n",
        "from scipy.sparse import csr_matrix\n",
        "from libsvm import svmutil \n"
      ],
      "metadata": {
        "id": "SxgrrxeUEt76"
      },
      "execution_count": 2,
      "outputs": []
    },
    {
      "cell_type": "code",
      "source": [
        "# tensor = torch.tensor([[1,2],[3,4],[5,6]])\n",
        "# # tensor.shape\n",
        "# perm = torch.randperm(3)\n",
        "# print(tensor.shape[0])\n",
        "# print(perm)\n",
        "# shuffled_tensor = tensor.index_select(0, perm)\n",
        "# print(shuffled_tensor)"
      ],
      "metadata": {
        "id": "_gg0EapvZV0Q"
      },
      "execution_count": 3,
      "outputs": []
    },
    {
      "cell_type": "code",
      "source": [
        "torch.manual_seed(35)\n",
        "\n",
        "# y = 2x +ε\n",
        "def generate_data_points(max, min, num_points):\n",
        "  x = torch.linspace(max, min, num_points)\n",
        "  epsilon = torch.randn(num_points)\n",
        "  y = 2 * x + epsilon\n",
        "  \n",
        "  return x,y"
      ],
      "metadata": {
        "id": "hltwFnkwDW2V"
      },
      "execution_count": 4,
      "outputs": []
    },
    {
      "cell_type": "code",
      "source": [
        "x, y = generate_data_points(-100, 100, 500)"
      ],
      "metadata": {
        "id": "8WQv7wLxExXJ"
      },
      "execution_count": 5,
      "outputs": []
    },
    {
      "cell_type": "code",
      "source": [
        "# Plots training data, test data and compares predictions.\n",
        "\n",
        "# def plot_predictions(origin_data, origin_labels, predicted_value, degrees, predictions):\n",
        "  \n",
        "plt.figure(figsize=(10, 6))\n",
        "# plt.title(\"Degrees: \" + str(degrees))\n",
        "  # Plot training data in blue\n",
        "plt.scatter(x, y, c=\"b\", s=4, label=\"Origin data\")\n",
        " \n",
        "  \n",
        "  # plt.plot(origin_data, predicted_value, c=\"orange\", label=\"Prediction\")\n",
        "\n",
        "  # if predictions is not None:\n",
        "  #   # Plot the predictions in red (predictions were made on the test data)\n",
        "  #   plt.scatter(test_data, predictions, c=\"r\", s=4, label=\"Predictions\")\n",
        "\n",
        "  # Show the legend\n",
        "plt.legend(prop={\"size\": 10});"
      ],
      "metadata": {
        "id": "Nhi3eRXbFFcC",
        "colab": {
          "base_uri": "https://localhost:8080/",
          "height": 522
        },
        "outputId": "52a4eb57-1575-4b8d-d674-c5bb57d8831c"
      },
      "execution_count": 6,
      "outputs": [
        {
          "output_type": "display_data",
          "data": {
            "text/plain": [
              "<Figure size 1000x600 with 1 Axes>"
            ],
            "image/png": "[encoded data removed]"
          },
          "metadata": {}
        }
      ]
    },
    {
      "cell_type": "code",
      "source": [
        "print(x.shape)\n",
        "print(y.shape)"
      ],
      "metadata": {
        "colab": {
          "base_uri": "https://localhost:8080/"
        },
        "id": "qORwmVQZczT1",
        "outputId": "c0ff3a27-7ca6-4a7a-a65d-0a42c6490236"
      },
      "execution_count": 7,
      "outputs": [
        {
          "output_type": "stream",
          "name": "stdout",
          "text": [
            "torch.Size([500])\n",
            "torch.Size([500])\n"
          ]
        }
      ]
    },
    {
      "cell_type": "code",
      "source": [
        "x = x.unsqueeze(1)\n",
        "y = y.unsqueeze(1)"
      ],
      "metadata": {
        "id": "0JZinOhXd1w5"
      },
      "execution_count": 8,
      "outputs": []
    },
    {
      "cell_type": "code",
      "source": [
        "x_y_pair = torch.cat((x, y), dim=1)"
      ],
      "metadata": {
        "id": "mNrmH8GzbX0_"
      },
      "execution_count": 9,
      "outputs": []
    },
    {
      "cell_type": "code",
      "source": [
        "# tensor = torch.tensor([[1,2],[3,4],[5,6]])\n",
        "# tensor.shape\n",
        "perm = torch.randperm(x_y_pair.shape[0])\n",
        "print(perm)\n",
        "x_y_pair = x_y_pair.index_select(0, perm)\n",
        "print(x_y_pair.shape)"
      ],
      "metadata": {
        "colab": {
          "base_uri": "https://localhost:8080/"
        },
        "id": "N2nV60H4Z_Pv",
        "outputId": "02b808e0-ddc7-47a8-f119-d85a95282ec7"
      },
      "execution_count": 10,
      "outputs": [
        {
          "output_type": "stream",
          "name": "stdout",
          "text": [
            "tensor([341, 431, 279, 392, 158, 376, 262, 330,   7,  84,  72, 165, 322, 253,\n",
            "        140, 118, 168, 394, 370, 196,  45, 362, 436, 499, 199, 102,  22,  86,\n",
            "        265, 479, 349, 248,  77, 114, 150, 433, 484, 109, 393, 391,  90,  30,\n",
            "        375,  42, 492, 268, 301,  67, 211, 454, 428,  60, 382, 181, 497, 396,\n",
            "         80,  44, 410, 343, 210, 427, 299, 198,  78, 325, 306, 439, 415, 310,\n",
            "        245, 212,  74,  15, 105,  65, 442, 378, 191, 125, 421, 189,  66, 185,\n",
            "         92, 250, 345, 288, 452, 239, 329, 350, 477, 187, 161, 289, 256, 389,\n",
            "         55, 240, 116, 154, 357,  11, 437, 138, 402,   9, 144, 244, 440, 356,\n",
            "        403, 280,  87, 169,  94, 399, 360, 178, 148,  27, 143, 405, 263, 476,\n",
            "        234, 338,  12, 180,  38, 342, 355, 311, 120, 173,   0, 218, 384,  46,\n",
            "         83, 284, 471, 407, 231, 164, 296,   1,  96, 236, 254, 128, 315,  18,\n",
            "        337,  16,  24, 488, 409, 117, 200, 273, 422, 230, 259, 397,  70, 146,\n",
            "         88,  58, 340, 367, 491, 112, 214, 314,  28, 364,  81, 456, 395,   8,\n",
            "        153, 129, 358, 321, 332, 420,  57, 450,  50, 316, 267, 186, 163, 293,\n",
            "        490, 331, 261, 495,  39, 287, 493, 121, 387, 292, 209, 221,  97, 133,\n",
            "        205, 151, 166, 307, 281, 377,  23, 179, 418, 300, 348,  51, 127,  61,\n",
            "        122,   6, 353,  41, 438, 226,  34, 400, 258, 412, 372, 305, 482,  73,\n",
            "        193,  17,  75,  82,  69, 278, 447, 222, 313, 478, 217, 260, 373,  36,\n",
            "        110,  89, 235, 445, 197,  47, 466, 213, 145, 247, 184, 228, 188, 425,\n",
            "        383, 386, 243, 201, 136, 294, 204, 335, 455, 489, 351, 171, 496, 170,\n",
            "        323, 206, 152, 334,  20,  37, 435,  35, 291, 448, 474, 202, 275, 481,\n",
            "         48, 215, 277, 257, 124, 276,  33, 242, 115, 379, 468, 157, 304, 381,\n",
            "        298, 101, 459, 333, 131, 108, 487,  68,  56, 232, 470, 149, 453,  32,\n",
            "        177, 465, 251, 113, 346, 457, 336,  64, 290, 225, 111,  53, 344, 312,\n",
            "        269, 195,  62,  19, 464, 103,  71, 270,  98, 135, 371, 318,  10, 223,\n",
            "        324, 130, 485,  25, 264, 317, 155,  31, 255, 443, 137, 134,  93,  63,\n",
            "         54, 141, 368, 182,  52, 194, 414, 167, 266, 126, 132, 252, 366, 419,\n",
            "          4, 107, 285, 190, 469, 385, 183, 309, 175,  99, 274, 441,   3, 238,\n",
            "         13, 374, 227, 446, 361, 359, 100, 327, 380, 104, 417, 462, 203, 233,\n",
            "         85, 241, 220, 328, 429, 390, 363, 308,   2,  26,  43, 159, 216,  29,\n",
            "        406, 401,  49, 461, 246, 320, 286, 423, 369,  95, 483, 467,  14, 426,\n",
            "        174, 207, 142, 219, 282, 302, 411, 208, 352, 473, 272, 388, 347, 339,\n",
            "        229, 498,  21,  79, 147, 237, 398,  91, 192, 475,  59, 451, 271, 156,\n",
            "        432, 444, 463,  76, 472, 480, 106, 486, 424, 162, 172, 413, 430,  40,\n",
            "        303, 494, 119, 249, 449, 460, 365, 295, 354, 123, 160, 408, 458, 319,\n",
            "        297, 283, 434,   5, 416, 404, 139, 176, 224, 326])\n",
            "torch.Size([500, 2])\n"
          ]
        }
      ]
    },
    {
      "cell_type": "code",
      "source": [
        "print(x_y_pair.shape)"
      ],
      "metadata": {
        "colab": {
          "base_uri": "https://localhost:8080/"
        },
        "id": "7xf_K03nckL4",
        "outputId": "184276f6-25b4-4022-c5cf-af21e2c5ed2e"
      },
      "execution_count": 11,
      "outputs": [
        {
          "output_type": "stream",
          "name": "stdout",
          "text": [
            "torch.Size([500, 2])\n"
          ]
        }
      ]
    },
    {
      "cell_type": "code",
      "source": [
        "x_y_pair[:400].shape"
      ],
      "metadata": {
        "colab": {
          "base_uri": "https://localhost:8080/"
        },
        "id": "kQ-4cH1l4Lk2",
        "outputId": "d2d5303e-af90-47b7-ba3a-373de3f503dd"
      },
      "execution_count": 12,
      "outputs": [
        {
          "output_type": "execute_result",
          "data": {
            "text/plain": [
              "torch.Size([400, 2])"
            ]
          },
          "metadata": {},
          "execution_count": 12
        }
      ]
    },
    {
      "cell_type": "code",
      "source": [
        "def get_labels(data):\n",
        "  labels = []\n",
        "  for data_points in data:\n",
        "    x = data_points[0]\n",
        "    y = data_points[1]\n",
        "    # epsilon = y - 2 * x\n",
        "    W = torch.tensor([2, -1, 0.0])\n",
        "    X = torch.tensor([x, y, 1])\n",
        "    label = torch.sign(torch.dot(W, X)).item()\n",
        "    labels.append(label)\n",
        "  \n",
        "  return labels"
      ],
      "metadata": {
        "id": "SrpsS8YG5ahG"
      },
      "execution_count": 13,
      "outputs": []
    },
    {
      "cell_type": "code",
      "source": [
        "# 80% train, 20% test\n",
        "# print(int(len(x_y_pair) * 0.8))\n",
        "# cut = int(len(x_y_pair) * 0.8)\n",
        "# train = x_y_pair[:cut].numpy()\n",
        "# train_label = get_labels(x_y_pair[:cut])\n",
        "# test = x_y_pair[cut:].numpy()\n",
        "# test_label = get_labels(x_y_pair[cut:])\n"
      ],
      "metadata": {
        "id": "6mkMxyBM4ENh"
      },
      "execution_count": 14,
      "outputs": []
    },
    {
      "cell_type": "code",
      "source": [
        "def generate_train_test_data_amd_label(data, split_rate):\n",
        "  cut = int(len(data) * split_rate)\n",
        "  train = data[:cut].numpy()\n",
        "  train_label = get_labels(data[:cut])\n",
        "  test = data[cut:].numpy()\n",
        "  test_label = get_labels(data[cut:])\n",
        "\n",
        "  return train, train_label, test, test_label"
      ],
      "metadata": {
        "id": "kaayEsLngzXT"
      },
      "execution_count": 15,
      "outputs": []
    },
    {
      "cell_type": "code",
      "source": [
        "train, train_label, test, test_label = generate_train_test_data_amd_label(x_y_pair, 0.8)"
      ],
      "metadata": {
        "id": "N0PE3sT6hl5K"
      },
      "execution_count": 16,
      "outputs": []
    },
    {
      "cell_type": "code",
      "source": [
        "# svm_model = svmutil.svm_train(train_label, train, '-s 1 -t 2 -d 2 -c 0.00390625 -g 0.000244140625 -w1 1 -w-1 6 -v 5')\n",
        "# svm_model = svmutil.svm_train(train_label, train, '-s 1 -t 2 -d 2 -c 0.00390625 -g 0.000244140625 -w1 1 -w-1 6')\n",
        "# p_labels, p_acc, p_vals = svmutil.svm_predict(test_label, test, svm_model)"
      ],
      "metadata": {
        "id": "6ZmO12JS9gav"
      },
      "execution_count": 17,
      "outputs": []
    },
    {
      "cell_type": "code",
      "source": [
        "# c = 2 to the power of -5\n",
        "# gamma = 2 to the power of -15\n",
        "svm_model = svmutil.svm_train(train_label, train, '-s 1 -t 2 -d 2 -c 0.03125 -g 0.000030517578125 -w1 1 -w-1 1 -v 5')\n",
        "svm_model = svmutil.svm_train(train_label, train, '-s 1 -t 2 -d 2 -c 0.03125 -g 0.000030517578125 -w1 1 -w-1 1')\n",
        "p_labels, p_acc, p_vals = svmutil.svm_predict(test_label, test, svm_model)"
      ],
      "metadata": {
        "colab": {
          "base_uri": "https://localhost:8080/"
        },
        "id": "0m5xaB4Q120k",
        "outputId": "309e23f1-f7e1-4fe4-846f-89085bda5791"
      },
      "execution_count": 18,
      "outputs": [
        {
          "output_type": "stream",
          "name": "stdout",
          "text": [
            "Cross Validation Accuracy = 83%\n",
            "Accuracy = 84% (84/100) (classification)\n"
          ]
        }
      ]
    },
    {
      "cell_type": "code",
      "source": [
        "# c = 2 to the power of -5\n",
        "# gamma = 2 to the power of -13\n",
        "svm_model = svmutil.svm_train(train_label, train, '-s 1 -t 2 -d 2 -c 0.03125 -g 0.0001220703125 -w1 1 -w-1 1 -v 5')\n",
        "svm_model = svmutil.svm_train(train_label, train, '-s 1 -t 2 -d 2 -c 0.03125 -g 0.0001220703125 -w1 1 -w-1 1')\n",
        "p_labels, p_acc, p_vals = svmutil.svm_predict(test_label, test, svm_model)"
      ],
      "metadata": {
        "colab": {
          "base_uri": "https://localhost:8080/"
        },
        "id": "h_t2nXS515u_",
        "outputId": "521a5255-f729-47c3-e1da-87bfe0dd00c0"
      },
      "execution_count": 19,
      "outputs": [
        {
          "output_type": "stream",
          "name": "stdout",
          "text": [
            "Cross Validation Accuracy = 88.5%\n",
            "Accuracy = 89% (89/100) (classification)\n"
          ]
        }
      ]
    },
    {
      "cell_type": "code",
      "source": [
        "# c = 2 to the power of -5\n",
        "# gamma = 2 to the power of -11\n",
        "svm_model = svmutil.svm_train(train_label, train, '-s 1 -t 2 -d 2 -c 0.03125 -g 0.00048828125 -w1 1 -w-1 1 -v 5')\n",
        "svm_model = svmutil.svm_train(train_label, train, '-s 1 -t 2 -d 2 -c 0.03125 -g 0.00048828125 -w1 1 -w-1 1')\n",
        "p_labels, p_acc, p_vals = svmutil.svm_predict(test_label, test, svm_model)"
      ],
      "metadata": {
        "colab": {
          "base_uri": "https://localhost:8080/"
        },
        "id": "757XTnlP17dr",
        "outputId": "a02f79d9-b738-40ac-de91-8ff355da945c"
      },
      "execution_count": 20,
      "outputs": [
        {
          "output_type": "stream",
          "name": "stdout",
          "text": [
            "Cross Validation Accuracy = 89%\n",
            "Accuracy = 90% (90/100) (classification)\n"
          ]
        }
      ]
    },
    {
      "cell_type": "markdown",
      "source": [
        "**Scaling**"
      ],
      "metadata": {
        "id": "5frRXil50efE"
      }
    },
    {
      "cell_type": "markdown",
      "source": [
        "scale to range [-1; +1]"
      ],
      "metadata": {
        "id": "4iTxxDOhHwxN"
      }
    },
    {
      "cell_type": "code",
      "source": [
        "def scaling(data, max, min):\n",
        "  x_tensor = torch.tensor(data[:,0]).clone().detach()\n",
        "  # y_tensor = torch.tensor(data[:,1])\n",
        "  # Linearly scaling x train to the range [-1; +1].\n",
        "\n",
        "  x_current_min = torch.min(x_tensor)\n",
        "  x_current_max = torch.max(x_tensor)\n",
        "\n",
        "  x_new_min = min\n",
        "  x_new_max = max\n",
        "\n",
        "  x_scaling_factor = (x_new_max - x_new_min) / (x_current_max - x_current_min)\n",
        "\n",
        "  x_shifted_tensor = x_tensor - x_current_min\n",
        "\n",
        "  x_scaled_tensor = x_shifted_tensor * x_scaling_factor\n",
        "\n",
        "  x_scale_data = x_scaled_tensor + x_new_min\n",
        "\n",
        "  epsilon = data[:,1] - 2 * data[:,0]\n",
        "  y_scale_data = 2 * x_scale_data + epsilon\n",
        "\n",
        "  return  x_scale_data, y_scale_data"
      ],
      "metadata": {
        "id": "N1e1Lz2K1yzU"
      },
      "execution_count": 21,
      "outputs": []
    },
    {
      "cell_type": "code",
      "source": [
        "\n",
        "x_train_scale_data, y_train_scale_data = scaling(train, 1, -1)\n",
        "x_train_scale_data = x_train_scale_data .unsqueeze(1)\n",
        "y_train_scale_data = y_train_scale_data.unsqueeze(1)\n",
        "\n",
        "\n",
        "x_test_scale_data, y_test_scale_data = scaling(test, 1, -1)\n",
        "x_test_scale_data = x_test_scale_data .unsqueeze(1)\n",
        "y_test_scale_data = y_test_scale_data.unsqueeze(1)\n",
        "\n",
        "train = torch.cat((x_train_scale_data , y_train_scale_data), dim=1).numpy()\n",
        "test = torch.cat((x_test_scale_data, y_test_scale_data), dim=1).numpy()"
      ],
      "metadata": {
        "id": "FPsDqYDt2wOX"
      },
      "execution_count": 22,
      "outputs": []
    },
    {
      "cell_type": "code",
      "source": [
        "# # c = 2 to the power of -5\n",
        "# # gamma = 2 to the power of -15\n",
        "# svm_model = svmutil.svm_train(train_label, train, '-s 1 -t 2 -d 2 -c 0.03125 -g 0.000030517578125 -w1 1 -w-1 1 -v 5')\n",
        "# svm_model = svmutil.svm_train(train_label, train, '-s 1 -t 2 -d 2 -c 0.03125 -g 0.000030517578125 -w1 1 -w-1 1')\n",
        "# p_labels, p_acc, p_vals = svmutil.svm_predict(test_label, test, svm_model)"
      ],
      "metadata": {
        "id": "_M2QOlSKxjNz"
      },
      "execution_count": 23,
      "outputs": []
    },
    {
      "cell_type": "code",
      "source": [
        "# # c = 2 to the power of -5\n",
        "# # gamma = 2 to the power of -13\n",
        "# svm_model = svmutil.svm_train(train_label, train, '-s 1 -t 2 -d 2 -c 0.03125 -g 0.0001220703125 -w1 1 -w-1 1 -v 5')\n",
        "# svm_model = svmutil.svm_train(train_label, train, '-s 1 -t 2 -d 2 -c 0.03125 -g 0.0001220703125 -w1 1 -w-1 1')\n",
        "# p_labels, p_acc, p_vals = svmutil.svm_predict(test_label, test, svm_model)"
      ],
      "metadata": {
        "id": "M1rnk15qzQex"
      },
      "execution_count": 24,
      "outputs": []
    },
    {
      "cell_type": "code",
      "source": [
        "# c = 2 to the power of -5\n",
        "# gamma = 2 to the power of -11\n",
        "svm_model = svmutil.svm_train(train_label, train, '-s 1 -t 2 -d 2 -c 0.03125 -g 0.00048828125 -w1 1 -w-1 1 -v 5')\n",
        "svm_model = svmutil.svm_train(train_label, train, '-s 1 -t 2 -d 2 -c 0.03125 -g 0.00048828125 -w1 1 -w-1 1')\n",
        "p_labels, p_acc, p_vals = svmutil.svm_predict(test_label, test, svm_model)"
      ],
      "metadata": {
        "colab": {
          "base_uri": "https://localhost:8080/"
        },
        "id": "rw0mYXwbze46",
        "outputId": "b0af8b8a-fb57-4df7-d7a3-f41f390c32d6"
      },
      "execution_count": 25,
      "outputs": [
        {
          "output_type": "stream",
          "name": "stdout",
          "text": [
            "Cross Validation Accuracy = 94.75%\n",
            "Accuracy = 95% (95/100) (classification)\n"
          ]
        }
      ]
    }
  ]
}